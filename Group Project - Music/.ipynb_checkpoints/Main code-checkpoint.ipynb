{
 "cells": [
  {
   "cell_type": "code",
   "execution_count": 9,
   "id": "6f4c165f",
   "metadata": {},
   "outputs": [
    {
     "name": "stdout",
     "output_type": "stream",
     "text": [
      "<class 'str'>\n",
      "Enter Username: sdf\n",
      "passwordwe\n",
      "New User Created\n",
      "['.ipynb_checkpoints', 'lkj', 'sdf', 'SUJAL', 'Sujal LUHAR']\n"
     ]
    }
   ],
   "source": [
    "import sys\n",
    "import os\n",
    "import playsound\n",
    "# playsound is library to play a sound independent of platform\n",
    "# playsound.playsound('path_to_music')\n",
    "# Example:\n",
    "# playsound.playsound('/home/aman/Music/Khaab.mp3')\n",
    "\n",
    "class Music:\n",
    "    # Contains metadata of Music. ie, when it's added, singer name etc.\n",
    "    def __init__(self, name, singer, music_path):\n",
    "        self.name=name\n",
    "        self.singer=singer\n",
    "        self.path=music_path\n",
    "        self.play_count=0\n",
    "    def play(self):\n",
    "        print('playing...')\n",
    "        print(f'    Song: {self.name}')\n",
    "        print(f'    Artist: {self.singer}')\n",
    "        playsound.playsound(self.path)\n",
    "        \n",
    "        \n",
    "        \n",
    "class User:\n",
    "    # It has user's data like username, password, favourite musics.\n",
    "    def __init__(self, username, passwd):\n",
    "        self.username= username\n",
    "        self.passwd=passwd\n",
    "        self.fav_song=[] # list of name of favourite music\n",
    "        self.fav_singers=[] # list of name of favourite singers\n",
    "        \n",
    "    def SignUp(self):\n",
    "        uname = input('Enter Username: ')\n",
    "        password = input('password')\n",
    "        if uname in os.listdir('C:\\\\Users\\\\luhar\\\\Anaconda-Jupyter-To Practice Programs\\\\Group Project - Music\\\\User\\\\IndividualUser'):\n",
    "            print('Username Allready Taken!')\n",
    "            User.SignUp(self)\n",
    "        else:\n",
    "            os.chdir('C:\\\\Users\\\\luhar\\\\Anaconda-Jupyter-To Practice Programs\\\\Group Project - Music\\\\User\\\\IndividualUser')\n",
    "            os.mkdir(f'{uname}')\n",
    "            os.chdir(f'C:\\\\Users\\\\luhar\\\\Anaconda-Jupyter-To Practice Programs\\\\Group Project - Music\\\\User')\n",
    "            with open('User Details.txt', 'a') as f:\n",
    "                f.write('\\n'+uname+','+password)\n",
    "            print('New User Created')\n",
    "        \n",
    "    def LogIn(self):\n",
    "        uname = input('Enter your Username: ')\n",
    "        password = input('Enter your Password: ')\n",
    "        \n",
    "        \n",
    "        \n",
    "class App:\n",
    "    # Main application class\n",
    "    def __init__(self):\n",
    "        self.users=[] # list of instances of User class\n",
    "        self.musics=[] # list of instances of Music class\n",
    "        self.current_user=None\n",
    "        self.project_dir=__file__\n",
    "    #def load_database()\n",
    "    #def add_user(self)\n",
    "    #def add_fav_song(self,user,song)\n",
    "    #def add_fav_singer(self,user,)\n",
    "print(type(os.getcwd()))\n",
    "a = User(1, 2)\n",
    "a.SignUp()\n",
    "print(os.listdir('C:\\\\Users\\\\luhar\\\\Anaconda-Jupyter-To Practice Programs\\\\Group Project - Music\\\\User\\\\IndividualUser'))"
   ]
  },
  {
   "cell_type": "code",
   "execution_count": null,
   "id": "f3eede7a",
   "metadata": {},
   "outputs": [],
   "source": []
  }
 ],
 "metadata": {
  "kernelspec": {
   "display_name": "Python 3 (ipykernel)",
   "language": "python",
   "name": "python3"
  },
  "language_info": {
   "codemirror_mode": {
    "name": "ipython",
    "version": 3
   },
   "file_extension": ".py",
   "mimetype": "text/x-python",
   "name": "python",
   "nbconvert_exporter": "python",
   "pygments_lexer": "ipython3",
   "version": "3.9.13"
  }
 },
 "nbformat": 4,
 "nbformat_minor": 5
}
